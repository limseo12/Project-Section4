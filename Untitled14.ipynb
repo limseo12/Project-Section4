{
  "nbformat": 4,
  "nbformat_minor": 0,
  "metadata": {
    "colab": {
      "name": "Untitled14.ipynb",
      "private_outputs": true,
      "provenance": [],
      "authorship_tag": "ABX9TyNV211PrrQwNrIuxfktJjEv",
      "include_colab_link": true
    },
    "kernelspec": {
      "name": "python3",
      "display_name": "Python 3"
    },
    "language_info": {
      "name": "python"
    }
  },
  "cells": [
    {
      "cell_type": "markdown",
      "metadata": {
        "id": "view-in-github",
        "colab_type": "text"
      },
      "source": [
        "<a href=\"https://colab.research.google.com/github/limseo12/Project-Section4/blob/main/Untitled14.ipynb\" target=\"_parent\"><img src=\"https://colab.research.google.com/assets/colab-badge.svg\" alt=\"Open In Colab\"/></a>"
      ]
    },
    {
      "cell_type": "markdown",
      "source": [
        "# **표지판 이미지 불러오기**"
      ],
      "metadata": {
        "id": "2VMQwCKQjwVc"
      }
    },
    {
      "cell_type": "code",
      "source": [
        "from IPython.display import Image\n",
        "from IPython.core.display import HTML\n",
        "Image(url= \"https://pds.twing.com/media/DPdfoulVAAAoq86.jpg\")"
      ],
      "metadata": {
        "id": "Onivoj7DjCya"
      },
      "execution_count": null,
      "outputs": []
    },
    {
      "cell_type": "code",
      "source": [
        "## from IPython.display import Image\n",
        "## 코드설명\n",
        "## from IPython.core.display import HTML\n",
        "## 코드설명"
      ],
      "metadata": {
        "id": "jrxHr_RRnoQR"
      },
      "execution_count": null,
      "outputs": []
    },
    {
      "cell_type": "markdown",
      "source": [
        "# 라이브러리 가져오기"
      ],
      "metadata": {
        "id": "SsWQocDAnEER"
      }
    },
    {
      "cell_type": "code",
      "source": [
        "import warnings\n",
        "warnings.filterwarnings('ignore')"
      ],
      "metadata": {
        "id": "mQoqIrTHmvKV"
      },
      "execution_count": null,
      "outputs": []
    },
    {
      "cell_type": "code",
      "source": [
        "import numpy as np\n",
        "import pandas as pd\n",
        "import matplotlib.pyplot as plt\n",
        "import tensorflow as tf\n",
        "import cv2\n",
        "from PIL import Image\n",
        "import os"
      ],
      "metadata": {
        "id": "tFkEQcV-nUge"
      },
      "execution_count": null,
      "outputs": []
    },
    {
      "cell_type": "code",
      "source": [
        "## import cv2\n",
        "## 설명\n",
        "## from PIL Import image\n",
        "## 설명\n",
        "## import os\n",
        "## 설명"
      ],
      "metadata": {
        "id": "gJ60Qzwgnu6F"
      },
      "execution_count": null,
      "outputs": []
    },
    {
      "cell_type": "markdown",
      "source": [
        "# 이미지를 읽어와서 배열에 넣기"
      ],
      "metadata": {
        "id": "PeB3Y_XYoFmn"
      }
    },
    {
      "cell_type": "code",
      "source": [
        "data=[]\n",
        "labels=[]\n",
        "\n",
        "height = 30\n",
        "width = 30\n",
        "channels = 3\n",
        "classes = 43\n",
        "n_inputs = height * width * channels\n",
        "\n",
        "for i in range(classes) :\n",
        "  path= \"../input/train/{0}/\".format(i)\n",
        "  print(path)\n",
        "  Class=os.listdir(path)\n",
        "  for a in Class :\n",
        "      try:\n",
        "        image = cv2.imread(path+a)\n",
        "        image_from_array = Image.fromarray(image, 'RGB')\n",
        "        size_image = image_from_array.resize((height, width))\n",
        "        data.append(np.array(size_image))\n",
        "        labels.append(i)\n",
        "      except AttributeError:\n",
        "        print(\" \")\n",
        "\n",
        "Cells=np.array(data)\n",
        "labels=np.array(labels)\n",
        "\n",
        "#순서 무작위\n",
        "s=np.arange(Cells.shape[0])\n",
        "np.random.seed(43)\n",
        "np.random.shuffle(s)\n",
        "Cells=Cells[s]\n",
        "labels=labels[s]\n"
      ],
      "metadata": {
        "id": "YUIFQw18n5Gn"
      },
      "execution_count": null,
      "outputs": []
    },
    {
      "cell_type": "markdown",
      "source": [
        "# 훈련 검증 세트로 분할"
      ],
      "metadata": {
        "id": "JHxSiL-brbX2"
      }
    },
    {
      "cell_type": "code",
      "source": [
        "(X_train,X_val)=Cells[(int)(0.2*len(labels)):],Cells[:(int)(0.2*len(labels))]\n",
        "##정규화\n",
        "X_train = X_train.astype('float32')/255\n",
        "X_val = X_val.astype('float32')/255\n",
        "(y_train,y_val)=labels[(int)(0.2*len(labels)):],labels[:(int)(0.2*len(labels))]\n",
        "\n",
        "##인코딩\n",
        "from keras.utils import to_categorical\n",
        "y_train = to_categorical(y_train, 43)\n",
        "y_val = to_categorical(y_val, 43)"
      ],
      "metadata": {
        "id": "HPTeuW-4rixq"
      },
      "execution_count": null,
      "outputs": []
    },
    {
      "cell_type": "markdown",
      "source": [
        "# 신경망 구성 CNN"
      ],
      "metadata": {
        "id": "XPZ-d7tIu7PG"
      }
    },
    {
      "cell_type": "code",
      "source": [
        "from keras.models import Sequential\n",
        "from keras.layers import Conv2D, MaxPool2D, Dense, Flatten, Dropout\n",
        "\n",
        "model = Sequential()\n",
        "model.add(Conv2D(filters=32, Kernel_size=(5,5), activation = 'relu', input_shape=X_train.shape[1:]))\n",
        "model.add(Conv2D(filters=64, Kernel_size=(3, 3), activation = 'relu'))\n",
        "model.add(MaxPool2D(pool_size=(2,2)))\n",
        "model.add(Dropout(rate=0.25))\n",
        "model.add(Conv2D(filters=64, kernel_size=(3, 3), activation = 'relu'))\n",
        "model.add(MaxPool2D(pool_size=(2,2)))\n",
        "model.add(Dropout(rate=0.25))\n",
        "model.add(Flatten())\n",
        "model.add(Dense(256, activation='relu'))\n",
        "model.add(Dropout(rate=0.5))\n",
        "model.add(Dense(43, activation = 'softmax'))\n",
        "\n",
        "#모델 적용\n",
        "model.compile(\n",
        "    loss='categorical_crossentropy',\n",
        "    optimizer='adam'\n",
        "    metrics=['accuracy']\n",
        ")"
      ],
      "metadata": {
        "id": "gkHAYsosvCje"
      },
      "execution_count": null,
      "outputs": []
    },
    {
      "cell_type": "markdown",
      "source": [
        "# 모델 트레이닝"
      ],
      "metadata": {
        "id": "fuyQSpgFxxLS"
      }
    },
    {
      "cell_type": "code",
      "source": [
        "epochs = 10\n",
        "history = model.fit(X_train, y_train, batch_size=32, epochs=epochs,\n",
        "validation_data=(X_val, y_val))"
      ],
      "metadata": {
        "id": "QcaPAyLJxzi7"
      },
      "execution_count": null,
      "outputs": []
    },
    {
      "cell_type": "markdown",
      "source": [
        "# 정확도, 손실 표시"
      ],
      "metadata": {
        "id": "RT5O3A5qyVMI"
      }
    },
    {
      "cell_type": "code",
      "source": [
        "import matplotlib.pyplot as plt\n",
        "\n",
        "plt.figure(0)\n",
        "plt.plot(history.history['acc'], label= 'training accuracy')\n",
        "plt.plot(history.history['val_acc'], label='val accuracy')\n",
        "plt.title('Accuracy')\n",
        "plt.xlabel('epochs')\n",
        "plt.ylabel('accuracy')\n",
        "plt.legend()\n",
        "\n",
        "plt.figure(1)\n",
        "plt.plot(history.history['loss'], label='training loss')\n",
        "plt.plot(history.history['val_loss'], label='val loss')\n",
        "plt.title('Loss')\n",
        "plt.xlabel('epochs')\n",
        "plt.ylabel('loss')\n",
        "plt.legend()"
      ],
      "metadata": {
        "id": "eqYynSAOyLrR"
      },
      "execution_count": null,
      "outputs": []
    },
    {
      "cell_type": "markdown",
      "source": [
        "# 테스트 데이터 예측"
      ],
      "metadata": {
        "id": "-_PSsgCBzS31"
      }
    },
    {
      "cell_type": "code",
      "source": [
        "y_test=pd.read_csv(\"../input/Test.csv\")\n",
        "labels=y_test['Path'].as_matrix()\n",
        "y_test=y_test['classld'].values\n",
        "\n",
        "data=[]\n",
        "\n",
        "for f in labels:\n",
        "  image=cv2. imread('../input/test/'+f.replace('Test/',''))\n",
        "  image_from_array = image.fromarray(image, 'RGB')\n",
        "  size_image = image_from_array.resize((height, width))\n",
        "  data.append(np.array(size_image))\n",
        "\n",
        "X_test=np.array(data)\n",
        "X_test=X_test.astype('float32')/255\n",
        "pred = model.predict_classes(X_test)"
      ],
      "metadata": {
        "id": "UyVn5LQvzdvl"
      },
      "execution_count": null,
      "outputs": []
    },
    {
      "cell_type": "markdown",
      "source": [
        "# 정확도"
      ],
      "metadata": {
        "id": "zgxAo6dn0jLX"
      }
    },
    {
      "cell_type": "code",
      "source": [
        "from sklearn.metrics import accuracy_score\n",
        "accuracy_score(y_test, pred)"
      ],
      "metadata": {
        "id": "gY887xRD0xS0"
      },
      "execution_count": null,
      "outputs": []
    }
  ]
}