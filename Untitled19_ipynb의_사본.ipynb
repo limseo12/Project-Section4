{
  "nbformat": 4,
  "nbformat_minor": 0,
  "metadata": {
    "colab": {
      "name": "Untitled19.ipynb의 사본",
      "private_outputs": true,
      "provenance": [],
      "authorship_tag": "ABX9TyNujZoPeTYzqA29umU+qhRU",
      "include_colab_link": true
    },
    "kernelspec": {
      "name": "python3",
      "display_name": "Python 3"
    },
    "language_info": {
      "name": "python"
    }
  },
  "cells": [
    {
      "cell_type": "markdown",
      "metadata": {
        "id": "view-in-github",
        "colab_type": "text"
      },
      "source": [
        "<a href=\"https://colab.research.google.com/github/limseo12/Project-Section4/blob/main/Untitled19_ipynb%EC%9D%98_%EC%82%AC%EB%B3%B8.ipynb\" target=\"_parent\"><img src=\"https://colab.research.google.com/assets/colab-badge.svg\" alt=\"Open In Colab\"/></a>"
      ]
    },
    {
      "cell_type": "code",
      "source": [
        "from google.colab import drive\n",
        "drive.mount('/content/drive')"
      ],
      "metadata": {
        "id": "9R_13Nwnn3jD"
      },
      "execution_count": null,
      "outputs": []
    },
    {
      "cell_type": "code",
      "execution_count": null,
      "metadata": {
        "id": "iZ1kjDMUnPqN"
      },
      "outputs": [],
      "source": [
        "import pandas as pd\n",
        "import numpy as np\n",
        "\n",
        "import os\n",
        "import pathlib\n",
        "\n",
        "import cv2 #영상처리에 사용하는 오픈소스 라이브러리, 컴퓨터가 사람 눈처럼 인식할 수 있게 처리\n",
        "from PIL import Image # 파이썬 이미지 처리 pillow 라이브러리\n",
        "from tensorflow.keras.preprocessing import image\n",
        "\n",
        "import tensorflow as tf\n",
        "from tensorflow import keras\n",
        "from tensorflow.keras.preprocessing.image import ImageDataGenerator #imagedatagenerater는 이미지를 학습시킬 때 학습 데이터의 양이 적을 경우 학습데이터를 조금씩 변형 시켜서 학습데이터의 양을 늘리는 방식중 하나\n",
        "from tensorflow.keras.preprocessing.image import img_to_array, array_to_img, load_img\n",
        "from tensorflow.keras.optimizers import Adam\n",
        "from tensorflow.keras.utils import to_categorical\n",
        "from tensorflow.keras.layers import Conv2D, MaxPool2D, Dense, Flatten, Dropout\n",
        "from tensorflow.keras.models import Sequential\n",
        "\n",
        "from sklearn.model_selection import train_test_split\n",
        "from sklearn.metrics import accuracy_score\n",
        "\n",
        "import matplotlib.pyplot as plt\n",
        "from matplotlib import style\n",
        "style.use('fivethirtyeight')#그래프 스타일 지정\n",
        "\n",
        "#난수 랜덤성 고정\n",
        "np.random.seed(42)\n",
        "\n",
        "%matplotlib inline"
      ]
    },
    {
      "cell_type": "code",
      "source": [
        "# 코렙은 좌측 파일 아이콘 클릭해서 마운팅된 파일 하나를 오른쪽 마우스 클릭하면 경로 카피할 수 있음 \n",
        "data_dir = pathlib.Path('/content/drive/MyDrive/section4_Project/German-Traffic-Sign/Meta')\n",
        "train_path = pathlib.Path('/content/drive/MyDrive/section4_Project/German-Traffic-Sign/Train')\n",
        "test_path = pathlib.Path('/content/drive/MyDrive/section4_Project/German-Traffic-Sign/Test')\n",
        "\n",
        "# 전처리: 이미지 별로 사이즈가 다르기 때문에 이미지의 폭과 높이를 같은 크기로 통일\n",
        "IMG_HEGHT = 30\n",
        "IMG_WIDTH = 30\n",
        "channels = 3"
      ],
      "metadata": {
        "id": "JPgsgYzOnTjb"
      },
      "execution_count": null,
      "outputs": []
    },
    {
      "cell_type": "code",
      "source": [
        "# 카테고리 수 확인\n",
        "NUM_CATEGORIES = len(os.listdir(train_path))\n",
        "NUM_CATEGORIES"
      ],
      "metadata": {
        "id": "jN-fz2EbnWBU"
      },
      "execution_count": null,
      "outputs": []
    },
    {
      "cell_type": "code",
      "source": [
        "# 모든 교통표시판 시각화\n",
        "# pathlib모듈을 사용하면, 파일, 디렉토리(폴더)의 경로를 객체로써 조작하거나 처리할 수 있다\n",
        "\n",
        "img_dir = pathlib.Path('/content/drive/MyDrive/section4_Project/German-Traffic-Sign/Train')\n",
        "plt.figure(figsize=(14,14))\n",
        "index = 0\n",
        "for i in range(NUM_CATEGORIES):\n",
        "    plt.subplot(7, 7, i+1)\n",
        "    plt.grid(False)\n",
        "    plt.xticks([]) #눈금 설정 없음\n",
        "    plt.yticks([])\n",
        "    sign = list(img_dir.glob(f'{i}/*'))[0] #glob모듈의 glob함수는 사용자가 제시한 조건에 맞는 파일명을 리스트형식으로 반환 #*(아스터리스크)는 임의 길이의 모든 문자열을 의미\n",
        "    img = load_img(sign, target_size=(30, 30))\n",
        "    plt.imshow(img)\n",
        "plt.show()"
      ],
      "metadata": {
        "id": "1izb_6yQnXnr"
      },
      "execution_count": null,
      "outputs": []
    },
    {
      "cell_type": "code",
      "source": [
        "# Label Overview\n",
        "classes = { 0:'Speed limit (20km/h)',\n",
        "            1:'Speed limit (30km/h)', \n",
        "            2:'Speed limit (50km/h)', \n",
        "            3:'Speed limit (60km/h)', \n",
        "            4:'Speed limit (70km/h)', \n",
        "            5:'Speed limit (80km/h)', \n",
        "            6:'End of speed limit (80km/h)', \n",
        "            7:'Speed limit (100km/h)', \n",
        "            8:'Speed limit (120km/h)', \n",
        "            9:'No passing', \n",
        "            10:'No passing veh over 3.5 tons', \n",
        "            11:'Right-of-way at intersection', \n",
        "            12:'Priority road', \n",
        "            13:'Yield', \n",
        "            14:'Stop', \n",
        "            15:'No vehicles', \n",
        "            16:'Veh > 3.5 tons prohibited', \n",
        "            17:'No entry', \n",
        "            18:'General caution', \n",
        "            19:'Dangerous curve left', \n",
        "            20:'Dangerous curve right', \n",
        "            21:'Double curve', \n",
        "            22:'Bumpy road', \n",
        "            23:'Slippery road', \n",
        "            24:'Road narrows on the right', \n",
        "            25:'Road work', \n",
        "            26:'Traffic signals', \n",
        "            27:'Pedestrians', \n",
        "            28:'Children crossing', \n",
        "            29:'Bicycles crossing', \n",
        "            30:'Beware of ice/snow',\n",
        "            31:'Wild animals crossing', \n",
        "            32:'End speed + passing limits', \n",
        "            33:'Turn right ahead', \n",
        "            34:'Turn left ahead', \n",
        "            35:'Ahead only', \n",
        "            36:'Go straight or right', \n",
        "            37:'Go straight or left', \n",
        "            38:'Keep right', \n",
        "            39:'Keep left', \n",
        "            40:'Roundabout mandatory', \n",
        "            41:'End of no passing', \n",
        "            42:'End no passing veh > 3.5 tons' }"
      ],
      "metadata": {
        "id": "IQWQa6wunZcx"
      },
      "execution_count": null,
      "outputs": []
    },
    {
      "cell_type": "code",
      "source": [
        "folders = os.listdir('/content/drive/MyDrive/section4_Project/Train') #os.listdir() 매써드는 지정한 디렉토리 내의 모든 파일과 디렉토리 리스트(list)를 리턴\n",
        "\n",
        "train_num = []\n",
        "class_num = []\n",
        "\n",
        "for folder in folders:\n",
        "  train_files = os.listdir(str(train_path) + '/'+ folder) #리스트로 가져오면 에러떠서 str로 변환해줌\n",
        "  train_num.append(len(train_files))\n",
        "  class_num.append(classes[int(folder)])\n",
        "\n",
        "# 각각의 클래스의 이미지의 수에 기초해 데이터셋 분류하기\n",
        "zipped_lists =  zip(train_num, class_num)\n",
        "sorted_pairs = sorted(zipped_lists)\n",
        "tuples =  zip(*sorted_pairs) # sorted(정렬할 데이터), 새로운 정렬된 리스트로 만들어서 반환\n",
        "train_num, class_num = [ list(tuple) for tuple in tuples]\n",
        "\n",
        "# 시각화\n",
        "plt.figure(figsize = (21, 10))\n",
        "plt.bar(class_num, train_num)\n",
        "plt.xticks(class_num, rotation='vertical')\n",
        "plt.show()"
      ],
      "metadata": {
        "id": "i9j6bgydncLi"
      },
      "execution_count": null,
      "outputs": []
    },
    {
      "cell_type": "code",
      "source": [
        "data_dir"
      ],
      "metadata": {
        "id": "1-yxJjn-nd7D"
      },
      "execution_count": null,
      "outputs": []
    },
    {
      "cell_type": "code",
      "source": [
        "def load_data(data_dir):\n",
        "    images = list()\n",
        "    labels = list()\n",
        "    for category in range(NUM_CATEGORIES):\n",
        "        categories = os.path.join(data_dir, str(category))\n",
        "        for img in os.listdir(categories):\n",
        "            img = load_img(os.path.join(categories, img), target_size=(30, 30))\n",
        "            image = img_to_array(img) # 이미지를 넘파이 배열로 변환\n",
        "            images.append(image) \n",
        "            labels.append(category)\n",
        "    \n",
        "    return images, labels"
      ],
      "metadata": {
        "id": "CiOdGjF9nfub"
      },
      "execution_count": null,
      "outputs": []
    },
    {
      "cell_type": "code",
      "source": [
        "images, labels = load_data(train_path)\n",
        "\n",
        "# labels에 원핫 인코딩 진행\n",
        "labels = to_categorical(labels)\n",
        "\n",
        "# 트레인, 테스트 셋 데이터 나누기\n",
        "x_train, x_test, y_train, y_test = train_test_split(np.array(images), labels, test_size=0.4)"
      ],
      "metadata": {
        "id": "-v6zqNtsnhEb"
      },
      "execution_count": null,
      "outputs": []
    },
    {
      "cell_type": "code",
      "source": [
        "model = Sequential()\n",
        "\n",
        "IMG_HEIGHT = 30\n",
        "IMG_WIDTH = 30\n",
        "\n",
        "# 첫번째 Convolutional Layer : 입력 데이터로부터 특징을 추출\n",
        "model.add(Conv2D(filters=32, kernel_size=3, activation='relu', input_shape=(IMG_HEIGHT,IMG_WIDTH,3)))\n",
        "model.add(MaxPool2D(pool_size=(2, 2)))\n",
        "model.add(Dropout(rate=0.25))\n",
        "\n",
        "# 두번째 Convolutional Layer\n",
        "model.add(Conv2D(filters=64, kernel_size=3, activation='relu'))\n",
        "model.add(MaxPool2D(pool_size=(2, 2)))\n",
        "model.add(Dropout(rate=0.25)) # 인풋데이터의 25%를 무작위로 0으로 만듦\n",
        "\n",
        "# 세번째 Convolutional Layer\n",
        "model.add(Conv2D(filters=64, kernel_size=3, activation='relu')) # 특징을 추출하는 기능을 하는 필터, 비선형 값으로 바꿔주는 activation 함수->relu\n",
        "\n",
        "model.summary()"
      ],
      "metadata": {
        "id": "NFkCNTFmnirs"
      },
      "execution_count": null,
      "outputs": []
    },
    {
      "cell_type": "code",
      "source": [
        "# Flattening the layer and adding Dense Layer\n",
        "model.add(Flatten())\n",
        "model.add(Dense(units=64, activation='relu'))\n",
        "model.add(Dense(NUM_CATEGORIES, activation='softmax'))\n",
        "\n",
        "model.summary()"
      ],
      "metadata": {
        "id": "oWYB8MXYnk67"
      },
      "execution_count": null,
      "outputs": []
    },
    {
      "cell_type": "code",
      "source": [
        "# Compiling the model\n",
        "model.compile(\n",
        "    loss='categorical_crossentropy', # 다중분류의 로스 함수\n",
        "    optimizer='adam',\n",
        "    metrics=['accuracy']\n",
        ")"
      ],
      "metadata": {
        "id": "jpwOaGVInmn8"
      },
      "execution_count": null,
      "outputs": []
    },
    {
      "cell_type": "code",
      "source": [
        "# Fitting the model\n",
        "EPOCHS = 50\n",
        "history = model.fit(x_train, \n",
        "                    y_train,\n",
        "                    validation_data = (x_test, y_test), \n",
        "                    epochs=EPOCHS, \n",
        "                    steps_per_epoch=60\n",
        "                   )"
      ],
      "metadata": {
        "id": "rn5vWzhgnoxk"
      },
      "execution_count": null,
      "outputs": []
    },
    {
      "cell_type": "code",
      "source": [
        "loss, accuracy = model.evaluate(x_test, y_test)\n",
        "\n",
        "print('test set accuracy: ', accuracy * 100)"
      ],
      "metadata": {
        "id": "FkwbmEXknqLC"
      },
      "execution_count": null,
      "outputs": []
    },
    {
      "cell_type": "code",
      "source": [
        "Y_test = pd.read_csv('/content/drive/MyDrive/section4_Project/German-Traffic-Sign/Test.csv')\n",
        "test_labels = Y_test[\"ClassId\"].values\n",
        "test_images = Y_test[\"Path\"].values\n",
        "\n",
        "a =  pathlib.Path('/content/drive/MyDrive/section4_Project/German-Traffic-Sign/')\n",
        "\n",
        "output = list()\n",
        "for img in test_images:\n",
        "    image = load_img(os.path.join(a, img), target_size=(30, 30))\n",
        "    output.append(np.array(image))\n",
        "\n",
        "X_test=np.array(output)\n",
        "y_prob = model.predict(X_test)\n",
        "pred = y_prob.argmax(axis=-1)\n",
        "\n",
        "#Accuracy with the test data\n",
        "print('Test Data accuracy: ',accuracy_score(test_labels, pred)*100)"
      ],
      "metadata": {
        "id": "AQZnvdA-nr5a"
      },
      "execution_count": null,
      "outputs": []
    },
    {
      "cell_type": "code",
      "source": [
        "plt.figure(figsize = (13, 13))\n",
        "\n",
        "start_index = 0\n",
        "for i in range(25):\n",
        "    plt.subplot(5, 5, i + 1)\n",
        "    plt.grid(False)\n",
        "    plt.xticks([])\n",
        "    plt.yticks([])\n",
        "    prediction = pred[start_index + i]\n",
        "    actual = test_labels[start_index + i]\n",
        "    col = 'g'\n",
        "    if prediction != actual:\n",
        "        col = 'r'\n",
        "    plt.xlabel('Actual={} || Pred={}'.format(actual, prediction), color = col)\n",
        "    plt.imshow(X_test[start_index + i])\n",
        "plt.show()"
      ],
      "metadata": {
        "id": "_G-RgzaJntby"
      },
      "execution_count": null,
      "outputs": []
    }
  ]
}